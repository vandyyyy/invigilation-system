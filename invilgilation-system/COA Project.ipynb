{
 "cells": [
  {
   "cell_type": "markdown",
   "id": "918e3b71",
   "metadata": {},
   "source": [
    "## Importing the Libraries"
   ]
  },
  {
   "cell_type": "markdown",
   "id": "d4d877c8",
   "metadata": {},
   "source": [
    "## Loading Required Files"
   ]
  },
  {
   "cell_type": "code",
   "execution_count": 16,
   "id": "ebdf0297",
   "metadata": {},
   "outputs": [
    {
     "name": "stderr",
     "output_type": "stream",
     "text": [
      "ERROR: Could not find a version that satisfies the requirement tensorflow==2.2.1 (from versions: 2.5.0, 2.5.1, 2.5.2, 2.5.3, 2.6.0rc0, 2.6.0rc1, 2.6.0rc2, 2.6.0, 2.6.1, 2.6.2, 2.6.3, 2.6.4, 2.6.5, 2.7.0rc0, 2.7.0rc1, 2.7.0, 2.7.1, 2.7.2, 2.7.3, 2.7.4, 2.8.0rc0, 2.8.0rc1, 2.8.0, 2.8.1, 2.8.2, 2.8.3, 2.8.4, 2.9.0rc0, 2.9.0rc1, 2.9.0rc2, 2.9.0, 2.9.1, 2.9.2, 2.9.3, 2.10.0rc0, 2.10.0rc1, 2.10.0rc2, 2.10.0rc3, 2.10.0, 2.10.1, 2.11.0rc0, 2.11.0rc1, 2.11.0rc2, 2.11.0)\n",
      "ERROR: No matching distribution found for tensorflow==2.2.1\n"
     ]
    },
    {
     "ename": "ModuleNotFoundError",
     "evalue": "No module named 'tensorflow.keras'",
     "output_type": "error",
     "traceback": [
      "\u001b[1;31m---------------------------------------------------------------------------\u001b[0m",
      "\u001b[1;31mModuleNotFoundError\u001b[0m                       Traceback (most recent call last)",
      "Cell \u001b[1;32mIn [16], line 6\u001b[0m\n\u001b[0;32m      4\u001b[0m \u001b[38;5;28;01mfrom\u001b[39;00m \u001b[38;5;21;01mPIL\u001b[39;00m \u001b[38;5;28;01mimport\u001b[39;00m Image, ImageOps\n\u001b[0;32m      5\u001b[0m get_ipython()\u001b[38;5;241m.\u001b[39msystem(\u001b[38;5;124m'\u001b[39m\u001b[38;5;124mpip install tensorflow==2.2.1\u001b[39m\u001b[38;5;124m'\u001b[39m)\n\u001b[1;32m----> 6\u001b[0m \u001b[38;5;28;01mfrom\u001b[39;00m \u001b[38;5;21;01mtensorflow\u001b[39;00m\u001b[38;5;21;01m.\u001b[39;00m\u001b[38;5;21;01mkeras\u001b[39;00m\u001b[38;5;21;01m.\u001b[39;00m\u001b[38;5;21;01mmodels\u001b[39;00m \u001b[38;5;28;01mimport\u001b[39;00m load_model, model_from_json\n",
      "\u001b[1;31mModuleNotFoundError\u001b[0m: No module named 'tensorflow.keras'"
     ]
    }
   ],
   "source": [
    "import cv2\n",
    "import numpy as np\n",
    "import matplotlib.pyplot as plt\n",
    "from PIL import Image, ImageOps\n",
    "!pip install tensorflow==2.2.1\n",
    "from tensorflow.keras.models import load_model, model_from_json"
   ]
  },
  {
   "cell_type": "code",
   "execution_count": 3,
   "id": "d217f04c",
   "metadata": {},
   "outputs": [
    {
     "ename": "NameError",
     "evalue": "name 'load_model' is not defined",
     "output_type": "error",
     "traceback": [
      "\u001b[1;31m---------------------------------------------------------------------------\u001b[0m",
      "\u001b[1;31mNameError\u001b[0m                                 Traceback (most recent call last)",
      "Cell \u001b[1;32mIn [3], line 5\u001b[0m\n\u001b[0;32m      3\u001b[0m headphones \u001b[38;5;241m=\u001b[39m cv2\u001b[38;5;241m.\u001b[39mimread(\u001b[38;5;124m'\u001b[39m\u001b[38;5;124m./person.jpg\u001b[39m\u001b[38;5;124m'\u001b[39m, \u001b[38;5;241m0\u001b[39m)\n\u001b[0;32m      4\u001b[0m image \u001b[38;5;241m=\u001b[39m cv2\u001b[38;5;241m.\u001b[39mimread(\u001b[38;5;124m'\u001b[39m\u001b[38;5;124mhuman.jpg\u001b[39m\u001b[38;5;124m'\u001b[39m)\n\u001b[1;32m----> 5\u001b[0m model \u001b[38;5;241m=\u001b[39m \u001b[43mload_model\u001b[49m(\u001b[38;5;124m'\u001b[39m\u001b[38;5;124mphone_model.h5\u001b[39m\u001b[38;5;124m'\u001b[39m)\n\u001b[0;32m      6\u001b[0m \u001b[38;5;66;03m# json_file = open('model.json', 'r')\u001b[39;00m\n\u001b[0;32m      7\u001b[0m \u001b[38;5;66;03m# loaded_model_json = json_file.read()\u001b[39;00m\n\u001b[0;32m      8\u001b[0m \u001b[38;5;66;03m# json_file.close()\u001b[39;00m\n\u001b[0;32m      9\u001b[0m \u001b[38;5;66;03m# model1 = model_from_json(loaded_model_json)\u001b[39;00m\n\u001b[0;32m     10\u001b[0m \u001b[38;5;66;03m# model1.load_weights(\"model.h5\")\u001b[39;00m\n",
      "\u001b[1;31mNameError\u001b[0m: name 'load_model' is not defined"
     ]
    }
   ],
   "source": [
    "face_cascade = cv2.CascadeClassifier('haarcascade_frontalface_default.xml')\n",
    "eye_cascade = cv2.CascadeClassifier('haarcascade_eye.xml')\n",
    "headphones = cv2.imread('./person.jpg', 0)\n",
    "image = cv2.imread('human.jpg')\n",
    "model = load_model('phone_model.h5')\n",
    "# json_file = open('model.json', 'r')\n",
    "# loaded_model_json = json_file.read()\n",
    "# json_file.close()\n",
    "# model1 = model_from_json(loaded_model_json)\n",
    "# model1.load_weights(\"model.h5\")"
   ]
  },
  {
   "cell_type": "markdown",
   "id": "b1740767",
   "metadata": {},
   "source": [
    "## Function to detect the face"
   ]
  },
  {
   "cell_type": "code",
   "execution_count": null,
   "id": "718e3e46",
   "metadata": {},
   "outputs": [],
   "source": [
    "def face(frame, prevX, prevY, prevW, prevH, frame_no, dont):\n",
    "    photo = 0 \n",
    "    face_rects = face_cascade.detectMultiScale(frame, minNeighbors = 20)\n",
    "    for (x,y,w,h) in face_rects:\n",
    "        cv2.rectangle(frame, (x,y), (x+w,y+h), (255,255,255), 10)\n",
    "        if abs(prevX - x) <= 2 and abs(prevY - y) <= 2 and abs(prevW - w) <= 2 and abs(prevH - h) <= 2:\n",
    "            frame = cv2.putText(frame, 'Photo', (x, y), cv2.FONT_HERSHEY_SIMPLEX, 1, (255, 0, 0), 2, cv2.LINE_AA)\n",
    "            photo += 4\n",
    "            prevX = x\n",
    "            prevY = y\n",
    "            prevW = w\n",
    "            prevH = h\n",
    "        if frame_no == 1:\n",
    "            prevX = x\n",
    "            prevY = y\n",
    "            prevW = w\n",
    "            prevH = h\n",
    "    if np.size(face_rects) > photo + 4 and not dont:\n",
    "        frame = cv2.putText(frame, 'More than one face visible', (200, 200), cv2.FONT_HERSHEY_SIMPLEX, 1, (255, 0, 0), 2, cv2.LINE_AA)\n",
    "        dont = True\n",
    "    elif np.size(face_rects) <= photo and not dont:\n",
    "        frame = cv2.putText(frame, 'Face not Visible properly', (200, 200), cv2.FONT_HERSHEY_SIMPLEX, 1, (255, 0, 0), 2, cv2.LINE_AA)\n",
    "        dont = True\n",
    "    return frame, prevX, prevY, prevW, prevH, dont"
   ]
  },
  {
   "cell_type": "markdown",
   "id": "f47e0807",
   "metadata": {},
   "source": [
    "## Main function"
   ]
  },
  {
   "cell_type": "code",
   "execution_count": null,
   "id": "10f99981",
   "metadata": {},
   "outputs": [],
   "source": [
    "import cv2\n",
    "import numpy as np\n",
    "import matplotlib.pyplot as plt\n",
    "from PIL import Image, ImageOps\n",
    "from tensorflow.keras.models import load_model, model_from_json\n",
    "prevX = 0\n",
    "prevY = 0\n",
    "prevW = 0\n",
    "prevH = 0\n",
    "frame_no = 0\n",
    "cap = cv2.VideoCapture(0)\n",
    "while(cap.isOpened()):\n",
    "    dont = False\n",
    "    ret, frame = cap.read()\n",
    "    data = np.ndarray(shape=(1, 224, 224, 3), dtype=np.float32)\n",
    "    img = Image.fromarray(frame)\n",
    "    size = (224, 224)\n",
    "    img = ImageOps.fit(img, size, Image.ANTIALIAS)\n",
    "    image_array = np.asarray(img)\n",
    "    normalized_image_array = (image_array.astype(np.float32) / 127.0) - 1\n",
    "    data[0] = normalized_image_array\n",
    "    prediction = model.predict(data)\n",
    "    #print(prediction[0][0])\n",
    "    if prediction[0][0] > 0.4:\n",
    "        frame = cv2.putText(frame, 'Phone visible', (200, 400), cv2.FONT_HERSHEY_SIMPLEX, 1, (255, 0, 0), 2, cv2.LINE_AA)\n",
    "        dont = True\n",
    "    try:\n",
    "        frame1 = cv2.GaussianBlur(frame,(15,15),10)\n",
    "        orb = cv2.ORB_create()\n",
    "        kp1, des1 = orb.detectAndCompute(headphones,None)\n",
    "        kp2, des2 = orb.detectAndCompute(frame1,None)\n",
    "        bf = cv2.BFMatcher(cv2.NORM_HAMMING, crossCheck=True)\n",
    "        matches = bf.match(des1,des2)\n",
    "        matches = sorted(matches, key = lambda x:x.distance)\n",
    "        if np.shape(matches)[0] > 50 and not dont:\n",
    "            frame = cv2.putText(frame, 'Headphones visible', (200, 300), cv2.FONT_HERSHEY_SIMPLEX, 1, (255, 0, 0), 2, cv2.LINE_AA)\n",
    "            dont = True\n",
    "    except:\n",
    "        break\n",
    "    frame_no += 1\n",
    "    photo = 0\n",
    "    frame[20:170, 20:120, :] = image\n",
    "    frame, prevX, prevY, prevW, prevH, dont = face(frame, prevX, prevY, prevW, prevH, frame_no, dont)\n",
    "    cv2.imshow('frame', frame)\n",
    "    if cv2.waitKey(1) & 0xFF == ord('q'):\n",
    "        break\n",
    "cap.release()\n",
    "cv2.destroyAllWindows()"
   ]
  },
  {
   "cell_type": "code",
   "execution_count": null,
   "id": "c0b78b7a",
   "metadata": {},
   "outputs": [],
   "source": []
  }
 ],
 "metadata": {
  "kernelspec": {
   "display_name": "Python 3 (ipykernel)",
   "language": "python",
   "name": "python3"
  },
  "language_info": {
   "codemirror_mode": {
    "name": "ipython",
    "version": 3
   },
   "file_extension": ".py",
   "mimetype": "text/x-python",
   "name": "python",
   "nbconvert_exporter": "python",
   "pygments_lexer": "ipython3",
   "version": "3.9.13"
  },
  "vscode": {
   "interpreter": {
    "hash": "9b3b7c4d28cb64825120bd30f71de55294bbcd95031a32a662a6a728490b9021"
   }
  }
 },
 "nbformat": 4,
 "nbformat_minor": 5
}
